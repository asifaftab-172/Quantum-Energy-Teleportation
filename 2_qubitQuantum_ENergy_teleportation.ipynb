{
  "nbformat": 4,
  "nbformat_minor": 0,
  "metadata": {
    "colab": {
      "provenance": []
    },
    "kernelspec": {
      "name": "python3",
      "display_name": "Python 3"
    },
    "language_info": {
      "name": "python"
    }
  },
  "cells": [
    {
      "cell_type": "markdown",
      "source": [
        "# Quantum Energy Teleportation: A Detailed Process\n",
        "\n",
        "Quantum energy teleportation (QET) is a fascinating phenomenon that allows the transfer of energy from one quantum system (Alice) to another distant quantum system (Bob) through quantum entanglement and measurements. This process is akin to quantum teleportation of information, but instead of transferring quantum states or bits, it is energy that is transferred between distant systems.\n",
        "\n",
        "This process relies on several principles of quantum mechanics, including superposition, entanglement, and measurement. Below is a step-by-step explanation of the entire energy teleportation process, along with the physics and mathematics that govern it.\n",
        "\n",
        "## 1. **Quantum Hamiltonian and System Setup**\n",
        "\n",
        "The total Hamiltonian for the quantum system of Alice and Bob is given by:\n",
        "\n",
        "$\n",
        "H = H_A + H_B + V\n",
        "$\n",
        "\n",
        "where:\n",
        "- $ H_A $ is the Hamiltonian of Alice's system,\n",
        "- $ H_B $ is the Hamiltonian of Bob's system, and\n",
        "- $ V $ is the interaction term between Alice and Bob.\n",
        "\n",
        "The explicit forms of the Hamiltonians are:\n",
        "\n",
        "$\n",
        "H_A = k Z_0 + \\frac{h^2}{\\sqrt{k^2 + h^2}}\n",
        "$\n",
        "\n",
        "$\n",
        "H_B = k Z_1 + \\frac{h^2}{\\sqrt{k^2 + h^2}}\n",
        "$\n",
        "\n",
        "$\n",
        "V = 2k X_0 X_1 + \\frac{2k^2}{\\sqrt{h^2 + k^2}}\n",
        "$\n",
        "\n",
        "Where:\n",
        "- $k $ and $ h $ are constants defining the system,\n",
        "- $ Z_0, Z_1 $ are Pauli $ Z $ matrices representing the energy operators,\n",
        "- $ X_0, X_1 $ are Pauli $ X $ matrices representing interaction terms between the systems.\n",
        "\n",
        "The total Hamiltonian $H$ describes the energy of the combined system, including Alice's and Bob's local energies and their interaction.\n",
        "\n",
        "### Ground State of the Hamiltonian\n",
        "\n",
        "The ground state $|g\\rangle $ of this Hamiltonian is the state of minimum energy, given by:\n",
        "\n",
        "$\n",
        "|g\\rangle = \\frac{1}{\\sqrt{2}} \\left( \\sqrt{1 - \\frac{h}{\\sqrt{h^2 + k^2}}}|00\\rangle - \\sqrt{1 + \\frac{h}{\\sqrt{h^2 + k^2}}}|11\\rangle \\right)\n",
        "$\n",
        "\n",
        "This ground state is a superposition of $ |00\\rangle $ and $ |11\\rangle $, where the coefficients depend on the constants $ k $ and $ h $. The ground state is essential because energy teleportation relies on the entanglement of Alice's and Bob's quantum states.\n",
        "\n",
        "### Expectation Values of the Hamiltonian Operators\n",
        "\n",
        "The expectation values of the Hamiltonian operators are zero:\n",
        "\n",
        "$\n",
        "\\langle g | H | g \\rangle = 0, \\quad \\langle g | H_A | g \\rangle = 0, \\quad \\langle g | H_B | g \\rangle = 0, \\quad \\langle g | V | g \\rangle = 0\n",
        "$\n",
        "\n",
        "This confirms that the system is in the ground state and minimizes the energy in the interaction.\n",
        "\n",
        "## 2. **Energy Transfer Mechanism**\n",
        "\n",
        "The interaction term $ V $ governs the energy transfer between Alice and Bob. This term causes entanglement between the two quantum systems, and energy can be transferred from Alice's system to Bob's through this interaction. The key to this process is **entanglement**, which allows the energy to be \"teleported\" to Bob's system.\n",
        "\n",
        "### Alice's Measurement and Collapse\n",
        "\n",
        "Alice performs a **measurement** on her qubit, which causes the collapse of the quantum state. The measurement is achieved by applying a **Hadamard gate** $ H $ to Alice's qubit, preparing it for a collapse into one of the basis states. This is represented as:\n",
        "\n",
        "$\n",
        "qc.h(qr[0])\n",
        "$\n",
        "\n",
        "After Alice’s measurement, her qubit collapses, and the quantum state of the entire system is updated accordingly.\n",
        "\n",
        "### Bob's Conditional Operations\n",
        "\n",
        "Bob’s qubit state adjusts based on Alice's measurement. Using a **controlled-Ry** gate (\\( \\text{cry} \\)), Bob performs a rotation of his qubit depending on Alice's measurement outcome. The rotation angle $ \\phi $ is calculated as:\n",
        "\n",
        "$\n",
        "\\phi = 0.5 \\arcsin\\left( \\frac{h \\cdot k}{\\sqrt{(h^2 + 2k^2)^2 + (h \\cdot k)^2}} \\right)\n",
        "$\n",
        "\n",
        "Bob then applies conditional operations based on Alice’s qubit state. These operations involve:\n",
        "- A **controlled rotation** to transfer energy from Alice to Bob,\n",
        "- The **X gate** to flip Alice’s qubit, followed by another conditional rotation.\n",
        "\n",
        "The operations in the quantum circuit are as follows:\n",
        "\n",
        "$\n",
        "qc.cry(-2\\phi, qr[0], qr[1]),\n",
        "qc.x(qr[0]),\n",
        "qc.cry(2\\phi, qr[0], qr[1]),\n",
        "qc.x(qr[0])\n",
        "$\n",
        "\n",
        "These gates ensure that energy is transferred from Alice’s qubit to Bob’s qubit.\n",
        "\n",
        "## 3. **Quantum Circuit Implementation**\n",
        "\n",
        "The quantum circuit for preparing the ground state, performing measurements, and applying conditional operations is as follows:\n",
        "\n",
        "### Prepare the Ground State\n",
        "To prepare the ground state $ |g\\rangle $, we apply the necessary rotation and entangling operations:\n",
        "\n",
        "$\n",
        "qc.ry(2\\alpha, qr[0]),\n",
        "qc.cx(qr[0], qr[1])\n",
        "$\n",
        "\n",
        "### Alice's Measurement\n",
        "Alice’s measurement is performed using the Hadamard gate:\n",
        "\n",
        "$\n",
        "qc.h(qr[0])\n",
        "$\n",
        "\n",
        "### Bob’s Conditional Rotation\n",
        "Bob performs a series of conditional rotations and operations based on Alice’s measurement:\n",
        "\n",
        "$\n",
        "qc.cry(-2\\phi, qr[0], qr[1]),\n",
        "qc.x(qr[0]),\n",
        "qc.cry(2\\phi, qr[0], qr[1]),\n",
        "qc.x(qr[0])\n",
        "$\n",
        "\n",
        "These operations transfer energy from Alice’s system to Bob’s system.\n",
        "\n",
        "\n",
        "\n",
        "## Conclusion\n",
        "\n",
        "Quantum energy teleportation allows energy to be transferred between distant quantum systems using the principles of quantum mechanics. By preparing entangled quantum states and applying measurements and conditional operations, energy can be teleported efficiently. The efficiency of this process depends on optimizing quantum gates, improving qubit properties, and minimizing errors. As quantum hardware continues to improve, the efficiency of quantum energy teleportation will increase, enabling new possibilities for quantum communication and energy transfer.\n",
        "\n",
        "\n"
      ],
      "metadata": {
        "id": "sBEF1Fq0RYMB"
      }
    },
    {
      "cell_type": "code",
      "execution_count": 1,
      "metadata": {
        "colab": {
          "base_uri": "https://localhost:8080/"
        },
        "id": "BlOluLKiG4mk",
        "outputId": "94a7e24c-bc77-4b25-9a7d-0cca2753d21a"
      },
      "outputs": [
        {
          "output_type": "stream",
          "name": "stdout",
          "text": [
            "\u001b[33mWARNING: Retrying (Retry(total=4, connect=None, read=None, redirect=None, status=None)) after connection broken by 'ProtocolError('Connection aborted.', RemoteDisconnected('Remote end closed connection without response'))': /simple/dill/\u001b[0m\u001b[33m\n",
            "\u001b[2K   \u001b[90m━━━━━━━━━━━━━━━━━━━━━━━━━━━━━━━━━━━━━━━━\u001b[0m \u001b[32m6.8/6.8 MB\u001b[0m \u001b[31m36.3 MB/s\u001b[0m eta \u001b[36m0:00:00\u001b[0m\n",
            "\u001b[2K   \u001b[90m━━━━━━━━━━━━━━━━━━━━━━━━━━━━━━━━━━━━━━━━\u001b[0m \u001b[32m119.4/119.4 kB\u001b[0m \u001b[31m6.6 MB/s\u001b[0m eta \u001b[36m0:00:00\u001b[0m\n",
            "\u001b[2K   \u001b[90m━━━━━━━━━━━━━━━━━━━━━━━━━━━━━━━━━━━━━━━━\u001b[0m \u001b[32m2.1/2.1 MB\u001b[0m \u001b[31m34.1 MB/s\u001b[0m eta \u001b[36m0:00:00\u001b[0m\n",
            "\u001b[2K   \u001b[90m━━━━━━━━━━━━━━━━━━━━━━━━━━━━━━━━━━━━━━━━\u001b[0m \u001b[32m49.5/49.5 kB\u001b[0m \u001b[31m2.6 MB/s\u001b[0m eta \u001b[36m0:00:00\u001b[0m\n",
            "\u001b[2K   \u001b[90m━━━━━━━━━━━━━━━━━━━━━━━━━━━━━━━━━━━━━━━━\u001b[0m \u001b[32m49.7/49.7 MB\u001b[0m \u001b[31m15.3 MB/s\u001b[0m eta \u001b[36m0:00:00\u001b[0m\n",
            "\u001b[2K   \u001b[90m━━━━━━━━━━━━━━━━━━━━━━━━━━━━━━━━━━━━━━━━\u001b[0m \u001b[32m109.0/109.0 kB\u001b[0m \u001b[31m5.1 MB/s\u001b[0m eta \u001b[36m0:00:00\u001b[0m\n",
            "\u001b[?25h"
          ]
        }
      ],
      "source": [
        "!pip install --quiet qiskit"
      ]
    },
    {
      "cell_type": "code",
      "source": [
        "!pip install --quiet qiskit_aer"
      ],
      "metadata": {
        "colab": {
          "base_uri": "https://localhost:8080/"
        },
        "id": "J6D-yDViHDfB",
        "outputId": "7f61c0c3-f91e-4a42-e807-18a99581d941"
      },
      "execution_count": 2,
      "outputs": [
        {
          "output_type": "stream",
          "name": "stdout",
          "text": [
            "\u001b[2K   \u001b[90m━━━━━━━━━━━━━━━━━━━━━━━━━━━━━━━━━━━━━━━━\u001b[0m \u001b[32m12.4/12.4 MB\u001b[0m \u001b[31m80.1 MB/s\u001b[0m eta \u001b[36m0:00:00\u001b[0m\n",
            "\u001b[?25h"
          ]
        }
      ]
    },
    {
      "cell_type": "code",
      "source": [
        "!pip install --quiet pylatexenc"
      ],
      "metadata": {
        "colab": {
          "base_uri": "https://localhost:8080/"
        },
        "id": "R7Jl_eyCHy1c",
        "outputId": "06502f37-89c8-450c-dbd2-5be40ea420ff"
      },
      "execution_count": 3,
      "outputs": [
        {
          "output_type": "stream",
          "name": "stdout",
          "text": [
            "\u001b[?25l     \u001b[90m━━━━━━━━━━━━━━━━━━━━━━━━━━━━━━━━━━━━━━━━\u001b[0m \u001b[32m0.0/162.6 kB\u001b[0m \u001b[31m?\u001b[0m eta \u001b[36m-:--:--\u001b[0m\r\u001b[2K     \u001b[91m━━━━━━━━━━━━━━━━━━━━━━━━━━━━━━━━━━━━━\u001b[0m\u001b[91m╸\u001b[0m\u001b[90m━━\u001b[0m \u001b[32m153.6/162.6 kB\u001b[0m \u001b[31m4.4 MB/s\u001b[0m eta \u001b[36m0:00:01\u001b[0m\r\u001b[2K     \u001b[90m━━━━━━━━━━━━━━━━━━━━━━━━━━━━━━━━━━━━━━━━\u001b[0m \u001b[32m162.6/162.6 kB\u001b[0m \u001b[31m3.1 MB/s\u001b[0m eta \u001b[36m0:00:00\u001b[0m\n",
            "\u001b[?25h  Preparing metadata (setup.py) ... \u001b[?25l\u001b[?25hdone\n",
            "  Building wheel for pylatexenc (setup.py) ... \u001b[?25l\u001b[?25hdone\n"
          ]
        }
      ]
    },
    {
      "cell_type": "code",
      "source": [
        "import numpy as np\n",
        "from qiskit import * #qiskit\n",
        "from qiskit.visualization import plot_histogram, plot_bloch_multivector, array_to_latex\n",
        "from qiskit_aer import AerSimulator\n",
        "from qiskit.quantum_info import random_statevector\n",
        "from qiskit.quantum_info import partial_trace, entropy"
      ],
      "metadata": {
        "id": "ru9i4e-dH4nO"
      },
      "execution_count": 5,
      "outputs": []
    },
    {
      "cell_type": "code",
      "source": [
        "simulator = AerSimulator()"
      ],
      "metadata": {
        "id": "RACYgq9RIBUc"
      },
      "execution_count": 6,
      "outputs": []
    },
    {
      "cell_type": "code",
      "source": [
        "qr = QuantumRegister(2)\n",
        "cr = ClassicalRegister(3)\n",
        "\n",
        "qc = QuantumCircuit(qr, cr)\n",
        "\n",
        "# Define the parameters\n",
        "k=1\n",
        "h=1.5\n",
        "\n",
        "#Prepare the ground state\n",
        "alpha=-np.arcsin((1/np.sqrt(2))*(np.sqrt(1+h/np.sqrt(h**2+k**2))))\n",
        "\n",
        "qc.ry(2*alpha,qr[0])\n",
        "qc.cx(qr[0],qr[1])\n",
        "\n",
        "qc.draw('mpl')"
      ],
      "metadata": {
        "colab": {
          "base_uri": "https://localhost:8080/",
          "height": 255
        },
        "id": "7WhCPti-KGmt",
        "outputId": "9fe82ff1-61ab-4d7f-dd92-30c2f3292d07"
      },
      "execution_count": 7,
      "outputs": [
        {
          "output_type": "execute_result",
          "data": {
            "text/plain": [
              "<Figure size 305.525x284.278 with 1 Axes>"
            ],
            "image/png": "[encoded data removed]"
          },
          "metadata": {},
          "execution_count": 7
        }
      ]
    },
    {
      "cell_type": "code",
      "source": [
        "# Alice's projective measurement\n",
        "qc.h(qr[0])\n",
        "qc.measure(qr[0],cr[0])\n",
        "\n",
        "qc.draw('mpl')"
      ],
      "metadata": {
        "colab": {
          "base_uri": "https://localhost:8080/",
          "height": 255
        },
        "id": "2XTc9I1oKLGx",
        "outputId": "f64be359-04e6-4f97-eff2-b8ab1342d5f1"
      },
      "execution_count": 8,
      "outputs": [
        {
          "output_type": "execute_result",
          "data": {
            "text/plain": [
              "<Figure size 472.747x284.278 with 1 Axes>"
            ],
            "image/png": "[encoded data removed]"
          },
          "metadata": {},
          "execution_count": 8
        }
      ]
    },
    {
      "cell_type": "code",
      "source": [
        "def sin(k,h):\n",
        "    return (h*k)/np.sqrt((h**2+2*k**2)**2+(h*k)**2)\n",
        "\n",
        "phi=0.5*np.arcsin(sin(k,h))\n",
        "\n",
        "qc.ry(2*phi,qr[1]).c_if(cr[0], 0)\n",
        "qc.ry(-2*phi,qr[1]).c_if(cr[0], 1)\n",
        "\n",
        "qc.h(qr[1])\n",
        "qc.measure(qr[1],cr[2])\n",
        "\n",
        "qc.draw('mpl')"
      ],
      "metadata": {
        "colab": {
          "base_uri": "https://localhost:8080/",
          "height": 324
        },
        "id": "QnRccyiNKV3s",
        "outputId": "7dcd9b0d-f3ba-4566-8be0-b2c35e996c3c"
      },
      "execution_count": 10,
      "outputs": [
        {
          "output_type": "stream",
          "name": "stderr",
          "text": [
            "<ipython-input-10-58fe02c71d10>:6: DeprecationWarning: The method ``qiskit.circuit.instructionset.InstructionSet.c_if()`` is deprecated as of qiskit 1.3.0. It will be removed in 2.0.0.\n",
            "  qc.ry(2*phi,qr[1]).c_if(cr[0], 0)\n",
            "<ipython-input-10-58fe02c71d10>:7: DeprecationWarning: The method ``qiskit.circuit.instructionset.InstructionSet.c_if()`` is deprecated as of qiskit 1.3.0. It will be removed in 2.0.0.\n",
            "  qc.ry(-2*phi,qr[1]).c_if(cr[0], 1)\n"
          ]
        },
        {
          "output_type": "execute_result",
          "data": {
            "text/plain": [
              "<Figure size 1141.64x284.278 with 1 Axes>"
            ],
            "image/png": "[encoded data removed]"
          },
          "metadata": {},
          "execution_count": 10
        }
      ]
    },
    {
      "cell_type": "code",
      "source": [
        "def sin(k,h):\n",
        "    return (h*k)/np.sqrt((h**2+2*k**2)**2+(h*k)**2)\n",
        "\n",
        "qr = QuantumRegister(2)\n",
        "cr = ClassicalRegister(2)\n",
        "\n",
        "qc = QuantumCircuit(qr, cr)\n",
        "\n",
        "# Define the parameters\n",
        "k=1\n",
        "h=1.5\n",
        "\n",
        "\n",
        "#Prepare the ground state\n",
        "alpha=-np.arcsin((1/np.sqrt(2))*(np.sqrt(1+h/np.sqrt(h**2+k**2))))\n",
        "\n",
        "qc.ry(2*alpha,qr[0])\n",
        "qc.cx(qr[0],qr[1])\n",
        "\n",
        "# Alice's projective measurement\n",
        "qc.h(qr[0])\n",
        "\n",
        "#Bob's conditional operation\n",
        "phi=0.5*np.arcsin(sin(k,h))\n",
        "qc.cry(-2*phi,qr[0],qr[1])\n",
        "\n",
        "qc.x(qr[0])\n",
        "qc.cry(2*phi,qr[0],qr[1])\n",
        "qc.x(qr[0])\n",
        "\n",
        "\n",
        "#Measurement of the interaction V\n",
        "# Comment out qc.h(qr[1]) below for the measurement of Bob's Z term\n",
        "qc.h(qr[1])\n",
        "\n",
        "qc.draw('mpl')\n"
      ],
      "metadata": {
        "colab": {
          "base_uri": "https://localhost:8080/",
          "height": 255
        },
        "id": "coLj2edhKkNl",
        "outputId": "5a6689af-f1d0-47cd-cc12-ac68d16a42e9"
      },
      "execution_count": 11,
      "outputs": [
        {
          "output_type": "execute_result",
          "data": {
            "text/plain": [
              "<Figure size 723.783x284.278 with 1 Axes>"
            ],
            "image/png": "[encoded data removed]"
          },
          "metadata": {},
          "execution_count": 11
        }
      ]
    },
    {
      "cell_type": "code",
      "source": [
        "n_shots=100000\n",
        "\n",
        "qc_meas = QuantumCircuit(qr,cr)\n",
        "qc_meas.measure(qr,cr)\n",
        "#add main circuit to measurement circuit to have total circuit\n",
        "qc_total = qc.compose(qc_meas)\n",
        "\n",
        "job = transpile(qc_total, backend=simulator)\n",
        "result = simulator.run(job, shots=n_shots).result()\n",
        "counts = result.get_counts(qc)"
      ],
      "metadata": {
        "id": "EeMfg5HWK1eE"
      },
      "execution_count": 14,
      "outputs": []
    },
    {
      "cell_type": "code",
      "source": [
        "ene_A=(h**2)/(np.sqrt(h**2+k**2))\n",
        "#to compute the value of Bob's Z, comment out qc.h(qr[1]) in the circuit above and compute ene_B\n",
        "#ene_B=(h**2)/(np.sqrt(h**2+k**2))\n",
        "ene_V=(2*k**2)/(np.sqrt(h**2+k**2))\n",
        "error_A=[]\n",
        "error_B=[]\n",
        "error_V=[]\n",
        "for orig_bit_string, count in counts.items():\n",
        "        bit_string = orig_bit_string[::-1]\n",
        "\n",
        "\n",
        "        ene_A += h*(-1)**int(bit_string[0])*count/n_shots\n",
        "        #ene_B += h*(-1)**int(bit_string[1])*count/n_shots\n",
        "        ene_V += 2*k*(-1)**int(bit_string[0])*(-1)**int(bit_string[1])*count/n_shots\n",
        "\n",
        "\n",
        "\n",
        "        for i in range(count):\n",
        "            error_A.append(h*(-1)**int(bit_string[0]))\n",
        "            #error_B.append(h*(-1)**int(bit_string[1]))\n",
        "            error_V.append(2*k*(-1)**(int(bit_string[1])))\n",
        "\n",
        "\n",
        "\n",
        "print(\"Alice's local energy\",ene_A,\"STD is\",np.std(error_A)/np.sqrt(n_shots))\n",
        "print(\"Exact E_A\",h**2/np.sqrt(h**2+k**2))\n",
        "#print(\"Bob's local energy\",ene_B,\"STD is\",np.std(error_B)/np.sqrt(n_shots))\n",
        "\n",
        "print(\"Interacting energy V\",ene_V,\"STD is\",np.std(error_V)/np.sqrt(n_shots))\n",
        "\n",
        "\n",
        "\n",
        "plot_histogram(counts)"
      ],
      "metadata": {
        "colab": {
          "base_uri": "https://localhost:8080/",
          "height": 489
        },
        "id": "UboGApI5Lknq",
        "outputId": "db68f615-5338-4b27-c46a-daf875c54944"
      },
      "execution_count": 15,
      "outputs": [
        {
          "output_type": "stream",
          "name": "stdout",
          "text": [
            "Alice's local energy 1.2466654415067657 STD is 0.0047434143946107\n",
            "Exact E_A 1.2480754415067656\n",
            "Interacting energy V -0.4947996075495417 STD is 0.006324522938530622\n"
          ]
        },
        {
          "output_type": "execute_result",
          "data": {
            "text/plain": [
              "<Figure size 640x480 with 1 Axes>"
            ],
            "image/png": "[encoded data removed]"
          },
          "metadata": {},
          "execution_count": 15
        }
      ]
    }
  ]
}